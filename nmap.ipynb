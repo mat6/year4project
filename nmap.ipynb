{
 "cells": [
  {
   "cell_type": "code",
   "execution_count": null,
   "metadata": {},
   "outputs": [],
   "source": [
    "#remove empty results and empty fields\n",
    "def removeEmptyResult(result):\n",
    "    for key in list(result.keys()):\n",
    "        if key.find('.') != -1:                                                         #check if entry is a host ( e.g: ip address x.x.x.x or domain name x.com)\n",
    "            if \"state\" in \"state\" in result[key]:\n",
    "                if result[key][\"state\"][\"state\"] == \"down\":                             #remove hosts that are down\n",
    "                    result.pop(key)\n",
    "                    continue\n",
    "            for subkey in list(result[key].keys()):\n",
    "                if ((result[key][subkey] is None) or (len(result[key][subkey]) == 0)):  #remove empty fields from result\n",
    "                    result[key].pop(subkey)"
   ]
  },
  {
   "cell_type": "code",
   "execution_count": null,
   "metadata": {},
   "outputs": [],
   "source": [
    "#gui\n",
    "def resultGUI(result):\n",
    "    import json\n",
    "    from PyQt6.QtWidgets import QApplication, QLabel, QScrollArea\n",
    "    \n",
    "    app = QApplication([])\n",
    "    window = QScrollArea()\n",
    "    window.setWindowTitle(\"Nmap Results\")\n",
    "    contents = QLabel(json.dumps(result,indent=4))\n",
    "    window.setWidget(contents)\n",
    "    window.show()\n",
    "    app.exec()"
   ]
  },
  {
   "cell_type": "code",
   "execution_count": null,
   "metadata": {},
   "outputs": [],
   "source": [
    "#regular ping scan\n",
    "import nmap3,json\n",
    "nmap = nmap3.NmapScanTechniques()\n",
    "target = \"scanme.nmap.org\"\n",
    "result = nmap.nmap_ping_scan(target)\n",
    "removeEmptyResult(result)\n",
    "print(json.dumps(result,indent=4))\n",
    "resultGUI(result)"
   ]
  },
  {
   "cell_type": "code",
   "execution_count": null,
   "metadata": {},
   "outputs": [],
   "source": [
    "#os scan REQUIRES ROOT\n",
    "import nmap3,json\n",
    "nmap = nmap3.Nmap()\n",
    "target = \"scanme.nmap.org\"\n",
    "result = nmap.nmap_os_detection(target)\n",
    "removeEmptyResult(result)\n",
    "print(json.dumps(result,indent=4))\n",
    "resultGUI(result)"
   ]
  },
  {
   "cell_type": "code",
   "execution_count": null,
   "metadata": {},
   "outputs": [],
   "source": [
    "#version scan\n",
    "import nmap3,json\n",
    "nmap = nmap3.Nmap()\n",
    "target = \"scanme.nmap.org\"\n",
    "result = nmap.nmap_version_detection(target)\n",
    "removeEmptyResult(result)\n",
    "print(json.dumps(result,indent=4))\n",
    "resultGUI(result)"
   ]
  },
  {
   "cell_type": "code",
   "execution_count": null,
   "metadata": {},
   "outputs": [],
   "source": [
    "#top ports scan\n",
    "import nmap3,json\n",
    "nmap = nmap3.Nmap()\n",
    "target = \"scanme.nmap.org\"\n",
    "result = nmap.scan_top_ports(target)\n",
    "removeEmptyResult(result)\n",
    "print(json.dumps(result,indent=4))\n",
    "resultGUI(result)"
   ]
  }
 ],
 "metadata": {
  "kernelspec": {
   "display_name": ".venv",
   "language": "python",
   "name": "python3"
  },
  "language_info": {
   "codemirror_mode": {
    "name": "ipython",
    "version": 3
   },
   "file_extension": ".py",
   "mimetype": "text/x-python",
   "name": "python",
   "nbconvert_exporter": "python",
   "pygments_lexer": "ipython3",
   "version": "3.11.6"
  }
 },
 "nbformat": 4,
 "nbformat_minor": 2
}
